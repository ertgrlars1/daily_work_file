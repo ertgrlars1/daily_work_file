{
 "cells": [
  {
   "cell_type": "code",
   "execution_count": 1,
   "id": "29a5f27f",
   "metadata": {},
   "outputs": [],
   "source": [
    "import numpy as np\n",
    "from scipy import stats"
   ]
  },
  {
   "cell_type": "code",
   "execution_count": 2,
   "id": "e9e40d79",
   "metadata": {},
   "outputs": [
    {
     "name": "stdout",
     "output_type": "stream",
     "text": [
      "Standard Procedure: [32 37 35 28 41 44 35 31 34]\n",
      "New Procedure: [35 31 29 25 34 40 27 32 31]\n"
     ]
    }
   ],
   "source": [
    "standard = np.array([32, 37, 35, 28, 41, 44, 35, 31, 34])\n",
    "new = np.array([35, 31, 29, 25, 34, 40, 27, 32, 31])\n",
    "print(\"Standard Procedure:\", standard)\n",
    "print(\"New Procedure:\", new)"
   ]
  },
  {
   "cell_type": "code",
   "execution_count": 3,
   "id": "2a844db9",
   "metadata": {},
   "outputs": [
    {
     "data": {
      "text/plain": [
       "Ttest_indResult(statistic=1.6494846165734016, pvalue=0.11853980248116995)"
      ]
     },
     "execution_count": 3,
     "metadata": {},
     "output_type": "execute_result"
    }
   ],
   "source": [
    "stats.ttest_ind(standard, new, equal_var=True, alternative='two-sided')   #assumes equal population variances"
   ]
  },
  {
   "cell_type": "code",
   "execution_count": 4,
   "id": "83a8066d",
   "metadata": {},
   "outputs": [
    {
     "data": {
      "text/plain": [
       "Ttest_indResult(statistic=1.6494846165734016, pvalue=0.11853980248116995)"
      ]
     },
     "execution_count": 4,
     "metadata": {},
     "output_type": "execute_result"
    }
   ],
   "source": [
    "stats.ttest_ind_from_stats(mean1=np.mean(standard), \n",
    "                           std1=np.std(standard, ddof=1), \n",
    "                           nobs1=np.size(standard),\n",
    "                           mean2=np.mean(new)     , \n",
    "                           std2=np.std(new, ddof=1),      \n",
    "                           nobs2=np.size(new))"
   ]
  },
  {
   "cell_type": "code",
   "execution_count": null,
   "id": "9848bb52",
   "metadata": {},
   "outputs": [],
   "source": []
  }
 ],
 "metadata": {
  "kernelspec": {
   "display_name": "Python 3 (ipykernel)",
   "language": "python",
   "name": "python3"
  },
  "language_info": {
   "codemirror_mode": {
    "name": "ipython",
    "version": 3
   },
   "file_extension": ".py",
   "mimetype": "text/x-python",
   "name": "python",
   "nbconvert_exporter": "python",
   "pygments_lexer": "ipython3",
   "version": "3.10.6"
  }
 },
 "nbformat": 4,
 "nbformat_minor": 5
}
