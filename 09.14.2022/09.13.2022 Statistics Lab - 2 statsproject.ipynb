{
 "cells": [
  {
   "cell_type": "code",
   "execution_count": 78,
   "metadata": {
    "id": "sy5EcZ65lzy-"
   },
   "outputs": [],
   "source": [
    "import pandas as pd\n",
    "import numpy as np\n",
    "import matplotlib.pyplot as plt\n",
    "import seaborn as sns\n",
    "import warnings\n",
    "warnings.filterwarnings(\"ignore\")\n",
    "plt.rcParams[\"figure.figsize\"] = (6,4)\n",
    "plt.rcParams['figure.dpi'] = 70\n",
    "from scipy import stats"
   ]
  },
  {
   "cell_type": "code",
   "execution_count": 79,
   "metadata": {
    "id": "OqljM_CyTboG"
   },
   "outputs": [],
   "source": [
    "df=pd.read_csv(\"my_data.csv\")"
   ]
  },
  {
   "cell_type": "code",
   "execution_count": 80,
   "metadata": {
    "colab": {
     "base_uri": "https://localhost:8080/",
     "height": 270
    },
    "executionInfo": {
     "elapsed": 354,
     "status": "ok",
     "timestamp": 1663063747635,
     "user": {
      "displayName": "Richard Thames",
      "userId": "00258987493291873022"
     },
     "user_tz": -180
    },
    "id": "5LopXTWuTboG",
    "outputId": "27a48e41-97c3-454d-dda1-8dc56d256461"
   },
   "outputs": [
    {
     "data": {
      "text/html": [
       "<div>\n",
       "<style scoped>\n",
       "    .dataframe tbody tr th:only-of-type {\n",
       "        vertical-align: middle;\n",
       "    }\n",
       "\n",
       "    .dataframe tbody tr th {\n",
       "        vertical-align: top;\n",
       "    }\n",
       "\n",
       "    .dataframe thead th {\n",
       "        text-align: right;\n",
       "    }\n",
       "</style>\n",
       "<table border=\"1\" class=\"dataframe\">\n",
       "  <thead>\n",
       "    <tr style=\"text-align: right;\">\n",
       "      <th></th>\n",
       "      <th>age</th>\n",
       "      <th>hp_kW</th>\n",
       "      <th>km</th>\n",
       "      <th>Gearing_Type</th>\n",
       "      <th>Gears</th>\n",
       "      <th>body_type</th>\n",
       "      <th>make_model</th>\n",
       "      <th>Fuel</th>\n",
       "      <th>Drive_chain</th>\n",
       "      <th>Weight_kg</th>\n",
       "      <th>Paint_Type</th>\n",
       "      <th>Upholstery_type</th>\n",
       "      <th>cons_comb</th>\n",
       "      <th>price</th>\n",
       "    </tr>\n",
       "  </thead>\n",
       "  <tbody>\n",
       "    <tr>\n",
       "      <th>0</th>\n",
       "      <td>3.0</td>\n",
       "      <td>66.0</td>\n",
       "      <td>56013.0</td>\n",
       "      <td>Automatic</td>\n",
       "      <td>7.0</td>\n",
       "      <td>Sedans</td>\n",
       "      <td>Audi A1</td>\n",
       "      <td>Diesel</td>\n",
       "      <td>front</td>\n",
       "      <td>1220.0</td>\n",
       "      <td>Metallic</td>\n",
       "      <td>Cloth</td>\n",
       "      <td>3.8</td>\n",
       "      <td>25232.0</td>\n",
       "    </tr>\n",
       "    <tr>\n",
       "      <th>1</th>\n",
       "      <td>2.0</td>\n",
       "      <td>141.0</td>\n",
       "      <td>80000.0</td>\n",
       "      <td>Automatic</td>\n",
       "      <td>7.0</td>\n",
       "      <td>Sedans</td>\n",
       "      <td>Audi A1</td>\n",
       "      <td>Benzine</td>\n",
       "      <td>front</td>\n",
       "      <td>1255.0</td>\n",
       "      <td>Metallic</td>\n",
       "      <td>Cloth</td>\n",
       "      <td>5.6</td>\n",
       "      <td>23200.0</td>\n",
       "    </tr>\n",
       "    <tr>\n",
       "      <th>2</th>\n",
       "      <td>3.0</td>\n",
       "      <td>85.0</td>\n",
       "      <td>83450.0</td>\n",
       "      <td>Automatic</td>\n",
       "      <td>7.0</td>\n",
       "      <td>Sedans</td>\n",
       "      <td>Audi A1</td>\n",
       "      <td>Diesel</td>\n",
       "      <td>front</td>\n",
       "      <td>1135.0</td>\n",
       "      <td>Metallic</td>\n",
       "      <td>Cloth</td>\n",
       "      <td>3.8</td>\n",
       "      <td>23424.0</td>\n",
       "    </tr>\n",
       "    <tr>\n",
       "      <th>3</th>\n",
       "      <td>3.0</td>\n",
       "      <td>66.0</td>\n",
       "      <td>73000.0</td>\n",
       "      <td>Automatic</td>\n",
       "      <td>6.0</td>\n",
       "      <td>Sedans</td>\n",
       "      <td>Audi A1</td>\n",
       "      <td>Diesel</td>\n",
       "      <td>front</td>\n",
       "      <td>1195.0</td>\n",
       "      <td>Metallic</td>\n",
       "      <td>Cloth</td>\n",
       "      <td>3.8</td>\n",
       "      <td>23200.0</td>\n",
       "    </tr>\n",
       "    <tr>\n",
       "      <th>4</th>\n",
       "      <td>3.0</td>\n",
       "      <td>66.0</td>\n",
       "      <td>16200.0</td>\n",
       "      <td>Automatic</td>\n",
       "      <td>7.0</td>\n",
       "      <td>Sedans</td>\n",
       "      <td>Audi A1</td>\n",
       "      <td>Diesel</td>\n",
       "      <td>front</td>\n",
       "      <td>1135.0</td>\n",
       "      <td>Metallic</td>\n",
       "      <td>Cloth</td>\n",
       "      <td>4.1</td>\n",
       "      <td>26864.0</td>\n",
       "    </tr>\n",
       "  </tbody>\n",
       "</table>\n",
       "</div>"
      ],
      "text/plain": [
       "   age  hp_kW       km Gearing_Type  Gears body_type make_model     Fuel  \\\n",
       "0  3.0   66.0  56013.0    Automatic    7.0    Sedans    Audi A1   Diesel   \n",
       "1  2.0  141.0  80000.0    Automatic    7.0    Sedans    Audi A1  Benzine   \n",
       "2  3.0   85.0  83450.0    Automatic    7.0    Sedans    Audi A1   Diesel   \n",
       "3  3.0   66.0  73000.0    Automatic    6.0    Sedans    Audi A1   Diesel   \n",
       "4  3.0   66.0  16200.0    Automatic    7.0    Sedans    Audi A1   Diesel   \n",
       "\n",
       "  Drive_chain  Weight_kg Paint_Type Upholstery_type  cons_comb    price  \n",
       "0       front     1220.0   Metallic           Cloth        3.8  25232.0  \n",
       "1       front     1255.0   Metallic           Cloth        5.6  23200.0  \n",
       "2       front     1135.0   Metallic           Cloth        3.8  23424.0  \n",
       "3       front     1195.0   Metallic           Cloth        3.8  23200.0  \n",
       "4       front     1135.0   Metallic           Cloth        4.1  26864.0  "
      ]
     },
     "execution_count": 80,
     "metadata": {},
     "output_type": "execute_result"
    }
   ],
   "source": [
    "df.head()"
   ]
  },
  {
   "cell_type": "code",
   "execution_count": 81,
   "metadata": {
    "colab": {
     "base_uri": "https://localhost:8080/"
    },
    "executionInfo": {
     "elapsed": 317,
     "status": "ok",
     "timestamp": 1663063754250,
     "user": {
      "displayName": "Richard Thames",
      "userId": "00258987493291873022"
     },
     "user_tz": -180
    },
    "id": "VPU0QL8mTboJ",
    "outputId": "ac691920-c5dd-4c60-9205-0bb07c2e5b1b"
   },
   "outputs": [
    {
     "data": {
      "text/plain": [
       "(15915, 14)"
      ]
     },
     "execution_count": 81,
     "metadata": {},
     "output_type": "execute_result"
    }
   ],
   "source": [
    "df.shape"
   ]
  },
  {
   "cell_type": "code",
   "execution_count": 82,
   "metadata": {
    "id": "aao2yDP-TboK",
    "outputId": "63bf611a-e4bd-4b35-b2a7-1a6d1b8dea03"
   },
   "outputs": [
    {
     "name": "stdout",
     "output_type": "stream",
     "text": [
      "<class 'pandas.core.frame.DataFrame'>\n",
      "RangeIndex: 15915 entries, 0 to 15914\n",
      "Data columns (total 14 columns):\n",
      " #   Column           Non-Null Count  Dtype  \n",
      "---  ------           --------------  -----  \n",
      " 0   age              15915 non-null  float64\n",
      " 1   hp_kW            15915 non-null  float64\n",
      " 2   km               15915 non-null  float64\n",
      " 3   Gearing_Type     15915 non-null  object \n",
      " 4   Gears            15915 non-null  float64\n",
      " 5   body_type        15915 non-null  object \n",
      " 6   make_model       15915 non-null  object \n",
      " 7   Fuel             15915 non-null  object \n",
      " 8   Drive_chain      15915 non-null  object \n",
      " 9   Weight_kg        15915 non-null  float64\n",
      " 10  Paint_Type       15915 non-null  object \n",
      " 11  Upholstery_type  15915 non-null  object \n",
      " 12  cons_comb        15915 non-null  float64\n",
      " 13  price            15915 non-null  float64\n",
      "dtypes: float64(7), object(7)\n",
      "memory usage: 1.7+ MB\n"
     ]
    }
   ],
   "source": [
    "df.info()"
   ]
  },
  {
   "cell_type": "code",
   "execution_count": 83,
   "metadata": {
    "colab": {
     "base_uri": "https://localhost:8080/",
     "height": 300
    },
    "executionInfo": {
     "elapsed": 529,
     "status": "ok",
     "timestamp": 1663063785094,
     "user": {
      "displayName": "Richard Thames",
      "userId": "00258987493291873022"
     },
     "user_tz": -180
    },
    "id": "lT6W3YD9TboL",
    "outputId": "793ddd54-6d0d-4af1-8078-bc3793c31b7e"
   },
   "outputs": [
    {
     "data": {
      "text/html": [
       "<div>\n",
       "<style scoped>\n",
       "    .dataframe tbody tr th:only-of-type {\n",
       "        vertical-align: middle;\n",
       "    }\n",
       "\n",
       "    .dataframe tbody tr th {\n",
       "        vertical-align: top;\n",
       "    }\n",
       "\n",
       "    .dataframe thead th {\n",
       "        text-align: right;\n",
       "    }\n",
       "</style>\n",
       "<table border=\"1\" class=\"dataframe\">\n",
       "  <thead>\n",
       "    <tr style=\"text-align: right;\">\n",
       "      <th></th>\n",
       "      <th>age</th>\n",
       "      <th>hp_kW</th>\n",
       "      <th>km</th>\n",
       "      <th>Gears</th>\n",
       "      <th>Weight_kg</th>\n",
       "      <th>cons_comb</th>\n",
       "      <th>price</th>\n",
       "    </tr>\n",
       "  </thead>\n",
       "  <tbody>\n",
       "    <tr>\n",
       "      <th>count</th>\n",
       "      <td>15915.000000</td>\n",
       "      <td>15915.000000</td>\n",
       "      <td>15915.000000</td>\n",
       "      <td>15915.000000</td>\n",
       "      <td>15915.000000</td>\n",
       "      <td>15915.000000</td>\n",
       "      <td>15915.000000</td>\n",
       "    </tr>\n",
       "    <tr>\n",
       "      <th>mean</th>\n",
       "      <td>1.389695</td>\n",
       "      <td>88.499340</td>\n",
       "      <td>32089.995708</td>\n",
       "      <td>5.937355</td>\n",
       "      <td>1337.700534</td>\n",
       "      <td>4.832124</td>\n",
       "      <td>28839.008935</td>\n",
       "    </tr>\n",
       "    <tr>\n",
       "      <th>std</th>\n",
       "      <td>1.121306</td>\n",
       "      <td>26.674341</td>\n",
       "      <td>36977.214964</td>\n",
       "      <td>0.704772</td>\n",
       "      <td>199.682385</td>\n",
       "      <td>0.867530</td>\n",
       "      <td>11810.686908</td>\n",
       "    </tr>\n",
       "    <tr>\n",
       "      <th>min</th>\n",
       "      <td>0.000000</td>\n",
       "      <td>40.000000</td>\n",
       "      <td>0.000000</td>\n",
       "      <td>5.000000</td>\n",
       "      <td>840.000000</td>\n",
       "      <td>3.000000</td>\n",
       "      <td>7920.000000</td>\n",
       "    </tr>\n",
       "    <tr>\n",
       "      <th>25%</th>\n",
       "      <td>0.000000</td>\n",
       "      <td>66.000000</td>\n",
       "      <td>1920.500000</td>\n",
       "      <td>5.000000</td>\n",
       "      <td>1165.000000</td>\n",
       "      <td>4.100000</td>\n",
       "      <td>20560.000000</td>\n",
       "    </tr>\n",
       "    <tr>\n",
       "      <th>50%</th>\n",
       "      <td>1.000000</td>\n",
       "      <td>85.000000</td>\n",
       "      <td>20413.000000</td>\n",
       "      <td>6.000000</td>\n",
       "      <td>1295.000000</td>\n",
       "      <td>4.800000</td>\n",
       "      <td>27040.000000</td>\n",
       "    </tr>\n",
       "    <tr>\n",
       "      <th>75%</th>\n",
       "      <td>2.000000</td>\n",
       "      <td>103.000000</td>\n",
       "      <td>46900.000000</td>\n",
       "      <td>6.000000</td>\n",
       "      <td>1472.000000</td>\n",
       "      <td>5.400000</td>\n",
       "      <td>35040.000000</td>\n",
       "    </tr>\n",
       "    <tr>\n",
       "      <th>max</th>\n",
       "      <td>3.000000</td>\n",
       "      <td>294.000000</td>\n",
       "      <td>317000.000000</td>\n",
       "      <td>8.000000</td>\n",
       "      <td>2471.000000</td>\n",
       "      <td>9.100000</td>\n",
       "      <td>119360.000000</td>\n",
       "    </tr>\n",
       "  </tbody>\n",
       "</table>\n",
       "</div>"
      ],
      "text/plain": [
       "                age         hp_kW             km         Gears     Weight_kg  \\\n",
       "count  15915.000000  15915.000000   15915.000000  15915.000000  15915.000000   \n",
       "mean       1.389695     88.499340   32089.995708      5.937355   1337.700534   \n",
       "std        1.121306     26.674341   36977.214964      0.704772    199.682385   \n",
       "min        0.000000     40.000000       0.000000      5.000000    840.000000   \n",
       "25%        0.000000     66.000000    1920.500000      5.000000   1165.000000   \n",
       "50%        1.000000     85.000000   20413.000000      6.000000   1295.000000   \n",
       "75%        2.000000    103.000000   46900.000000      6.000000   1472.000000   \n",
       "max        3.000000    294.000000  317000.000000      8.000000   2471.000000   \n",
       "\n",
       "          cons_comb          price  \n",
       "count  15915.000000   15915.000000  \n",
       "mean       4.832124   28839.008935  \n",
       "std        0.867530   11810.686908  \n",
       "min        3.000000    7920.000000  \n",
       "25%        4.100000   20560.000000  \n",
       "50%        4.800000   27040.000000  \n",
       "75%        5.400000   35040.000000  \n",
       "max        9.100000  119360.000000  "
      ]
     },
     "execution_count": 83,
     "metadata": {},
     "output_type": "execute_result"
    }
   ],
   "source": [
    "df.describe()"
   ]
  },
  {
   "cell_type": "code",
   "execution_count": 84,
   "metadata": {
    "id": "s_lZmz89TboL"
   },
   "outputs": [],
   "source": [
    "def nunique_in_columns(df):\n",
    "    for i in df.columns:\n",
    "        print(i, \":\", df[i].nunique())"
   ]
  },
  {
   "cell_type": "code",
   "execution_count": 85,
   "metadata": {
    "colab": {
     "base_uri": "https://localhost:8080/"
    },
    "executionInfo": {
     "elapsed": 618,
     "status": "ok",
     "timestamp": 1663063994615,
     "user": {
      "displayName": "Richard Thames",
      "userId": "00258987493291873022"
     },
     "user_tz": -180
    },
    "id": "YEMbV-vITboM",
    "outputId": "78ac16fc-db52-4bbc-bba0-98560991ff78"
   },
   "outputs": [
    {
     "name": "stdout",
     "output_type": "stream",
     "text": [
      "age : 4\n",
      "hp_kW : 77\n",
      "km : 6691\n",
      "Gearing_Type : 3\n",
      "Gears : 4\n",
      "body_type : 8\n",
      "make_model : 9\n",
      "Fuel : 4\n",
      "Drive_chain : 3\n",
      "Weight_kg : 432\n",
      "Paint_Type : 3\n",
      "Upholstery_type : 2\n",
      "cons_comb : 62\n",
      "price : 2952\n"
     ]
    }
   ],
   "source": [
    "nunique_in_columns(df)"
   ]
  },
  {
   "cell_type": "code",
   "execution_count": 86,
   "metadata": {
    "id": "8IyMLLIjTboN"
   },
   "outputs": [],
   "source": [
    "def unique_in_columns(df):\n",
    "    for i in df.columns:\n",
    "        print(i, \":\", df[i].unique()) if df[i].nunique()<10 else print(i, \":\", \"mean = \", df[i].mean(), \"min =\", df[i].min(), \"max =\", df[i].max())"
   ]
  },
  {
   "cell_type": "code",
   "execution_count": 87,
   "metadata": {
    "colab": {
     "base_uri": "https://localhost:8080/"
    },
    "executionInfo": {
     "elapsed": 518,
     "status": "ok",
     "timestamp": 1663064112358,
     "user": {
      "displayName": "Richard Thames",
      "userId": "00258987493291873022"
     },
     "user_tz": -180
    },
    "id": "nBk8jw4mTboO",
    "outputId": "450d8eb3-8d76-4e9a-9697-104bcebfd477"
   },
   "outputs": [
    {
     "name": "stdout",
     "output_type": "stream",
     "text": [
      "age : [3. 2. 1. 0.]\n",
      "hp_kW : mean =  88.49934024505184 min = 40.0 max = 294.0\n",
      "km : mean =  32089.99570776169 min = 0.0 max = 317000.0\n",
      "Gearing_Type : ['Automatic' 'Manual' 'Semi-automatic']\n",
      "Gears : [7. 6. 5. 8.]\n",
      "body_type : ['Sedans' 'Station wagon' 'Compact' 'Coupe' 'Van' 'Off-Road' 'Convertible'\n",
      " 'Transporter']\n",
      "make_model : ['Audi A1' 'Audi A2' 'Audi A3' 'Opel Astra' 'Opel Corsa' 'Opel Insignia'\n",
      " 'Renault Clio' 'Renault Duster' 'Renault Espace']\n",
      "Fuel : ['Diesel' 'Benzine' 'LPG/CNG' 'Electric']\n",
      "Drive_chain : ['front' '4WD' 'rear']\n",
      "Weight_kg : mean =  1337.700534087339 min = 840.0 max = 2471.0\n",
      "Paint_Type : ['Metallic' 'Uni/basic' 'Perl effect']\n",
      "Upholstery_type : ['Cloth' 'Part/Full Leather']\n",
      "cons_comb : mean =  4.832123782595036 min = 3.0 max = 9.1\n",
      "price : mean =  28839.008934967016 min = 7920.0 max = 119360.0\n"
     ]
    }
   ],
   "source": [
    "unique_in_columns(df)"
   ]
  },
  {
   "cell_type": "markdown",
   "metadata": {
    "id": "Sk8zevYeTboO"
   },
   "source": [
    "# HYPOTHEIS TESTS (alpha = 0.05)"
   ]
  },
  {
   "cell_type": "markdown",
   "metadata": {
    "id": "99D8RF0ATboP"
   },
   "source": [
    "## 1. One Sample T Test"
   ]
  },
  {
   "cell_type": "markdown",
   "metadata": {
    "id": "QoE80Z1UTboP"
   },
   "source": [
    "### Let's test if the the avg combined fuel consumption for Benzine-Compact-A3 cars is significantly less then 5"
   ]
  },
  {
   "cell_type": "code",
   "execution_count": 88,
   "metadata": {
    "colab": {
     "base_uri": "https://localhost:8080/",
     "height": 427
    },
    "executionInfo": {
     "elapsed": 919,
     "status": "ok",
     "timestamp": 1663064265945,
     "user": {
      "displayName": "Richard Thames",
      "userId": "00258987493291873022"
     },
     "user_tz": -180
    },
    "id": "6dwGPf4eTboQ",
    "outputId": "f81f94a9-3cf9-4595-da2d-9fbe090e1187"
   },
   "outputs": [
    {
     "data": {
      "text/html": [
       "<div>\n",
       "<style scoped>\n",
       "    .dataframe tbody tr th:only-of-type {\n",
       "        vertical-align: middle;\n",
       "    }\n",
       "\n",
       "    .dataframe tbody tr th {\n",
       "        vertical-align: top;\n",
       "    }\n",
       "\n",
       "    .dataframe thead th {\n",
       "        text-align: right;\n",
       "    }\n",
       "</style>\n",
       "<table border=\"1\" class=\"dataframe\">\n",
       "  <thead>\n",
       "    <tr style=\"text-align: right;\">\n",
       "      <th></th>\n",
       "      <th>age</th>\n",
       "      <th>hp_kW</th>\n",
       "      <th>km</th>\n",
       "      <th>Gearing_Type</th>\n",
       "      <th>Gears</th>\n",
       "      <th>body_type</th>\n",
       "      <th>make_model</th>\n",
       "      <th>Fuel</th>\n",
       "      <th>Drive_chain</th>\n",
       "      <th>Weight_kg</th>\n",
       "      <th>Paint_Type</th>\n",
       "      <th>Upholstery_type</th>\n",
       "      <th>cons_comb</th>\n",
       "      <th>price</th>\n",
       "    </tr>\n",
       "  </thead>\n",
       "  <tbody>\n",
       "    <tr>\n",
       "      <th>2673</th>\n",
       "      <td>3.0</td>\n",
       "      <td>92.0</td>\n",
       "      <td>56993.0</td>\n",
       "      <td>Automatic</td>\n",
       "      <td>7.0</td>\n",
       "      <td>Compact</td>\n",
       "      <td>Audi A3</td>\n",
       "      <td>Benzine</td>\n",
       "      <td>front</td>\n",
       "      <td>1205.0</td>\n",
       "      <td>Metallic</td>\n",
       "      <td>Part/Full Leather</td>\n",
       "      <td>5.1</td>\n",
       "      <td>29472.0</td>\n",
       "    </tr>\n",
       "    <tr>\n",
       "      <th>2688</th>\n",
       "      <td>3.0</td>\n",
       "      <td>82.0</td>\n",
       "      <td>39660.0</td>\n",
       "      <td>Automatic</td>\n",
       "      <td>7.0</td>\n",
       "      <td>Compact</td>\n",
       "      <td>Audi A3</td>\n",
       "      <td>Benzine</td>\n",
       "      <td>front</td>\n",
       "      <td>1280.0</td>\n",
       "      <td>Metallic</td>\n",
       "      <td>Part/Full Leather</td>\n",
       "      <td>4.1</td>\n",
       "      <td>29592.0</td>\n",
       "    </tr>\n",
       "    <tr>\n",
       "      <th>2704</th>\n",
       "      <td>3.0</td>\n",
       "      <td>110.0</td>\n",
       "      <td>31900.0</td>\n",
       "      <td>Automatic</td>\n",
       "      <td>7.0</td>\n",
       "      <td>Compact</td>\n",
       "      <td>Audi A3</td>\n",
       "      <td>Benzine</td>\n",
       "      <td>front</td>\n",
       "      <td>1195.0</td>\n",
       "      <td>Metallic</td>\n",
       "      <td>Cloth</td>\n",
       "      <td>4.7</td>\n",
       "      <td>28784.0</td>\n",
       "    </tr>\n",
       "    <tr>\n",
       "      <th>2766</th>\n",
       "      <td>3.0</td>\n",
       "      <td>112.0</td>\n",
       "      <td>75201.0</td>\n",
       "      <td>Automatic</td>\n",
       "      <td>7.0</td>\n",
       "      <td>Compact</td>\n",
       "      <td>Audi A3</td>\n",
       "      <td>Benzine</td>\n",
       "      <td>front</td>\n",
       "      <td>1280.0</td>\n",
       "      <td>Metallic</td>\n",
       "      <td>Cloth</td>\n",
       "      <td>4.1</td>\n",
       "      <td>28630.4</td>\n",
       "    </tr>\n",
       "    <tr>\n",
       "      <th>2827</th>\n",
       "      <td>2.0</td>\n",
       "      <td>85.0</td>\n",
       "      <td>36700.0</td>\n",
       "      <td>Automatic</td>\n",
       "      <td>7.0</td>\n",
       "      <td>Compact</td>\n",
       "      <td>Audi A3</td>\n",
       "      <td>Benzine</td>\n",
       "      <td>front</td>\n",
       "      <td>1225.0</td>\n",
       "      <td>Metallic</td>\n",
       "      <td>Cloth</td>\n",
       "      <td>4.5</td>\n",
       "      <td>27184.0</td>\n",
       "    </tr>\n",
       "    <tr>\n",
       "      <th>2836</th>\n",
       "      <td>3.0</td>\n",
       "      <td>92.0</td>\n",
       "      <td>124136.0</td>\n",
       "      <td>Automatic</td>\n",
       "      <td>7.0</td>\n",
       "      <td>Compact</td>\n",
       "      <td>Audi A3</td>\n",
       "      <td>Benzine</td>\n",
       "      <td>front</td>\n",
       "      <td>1300.0</td>\n",
       "      <td>Metallic</td>\n",
       "      <td>Cloth</td>\n",
       "      <td>4.9</td>\n",
       "      <td>27040.0</td>\n",
       "    </tr>\n",
       "    <tr>\n",
       "      <th>2885</th>\n",
       "      <td>3.0</td>\n",
       "      <td>81.0</td>\n",
       "      <td>123748.0</td>\n",
       "      <td>Automatic</td>\n",
       "      <td>7.0</td>\n",
       "      <td>Compact</td>\n",
       "      <td>Audi A3</td>\n",
       "      <td>Benzine</td>\n",
       "      <td>front</td>\n",
       "      <td>1255.0</td>\n",
       "      <td>Metallic</td>\n",
       "      <td>Cloth</td>\n",
       "      <td>4.1</td>\n",
       "      <td>26240.0</td>\n",
       "    </tr>\n",
       "    <tr>\n",
       "      <th>2974</th>\n",
       "      <td>3.0</td>\n",
       "      <td>92.0</td>\n",
       "      <td>113490.0</td>\n",
       "      <td>Automatic</td>\n",
       "      <td>7.0</td>\n",
       "      <td>Compact</td>\n",
       "      <td>Audi A3</td>\n",
       "      <td>Benzine</td>\n",
       "      <td>front</td>\n",
       "      <td>1300.0</td>\n",
       "      <td>Metallic</td>\n",
       "      <td>Cloth</td>\n",
       "      <td>5.0</td>\n",
       "      <td>22320.0</td>\n",
       "    </tr>\n",
       "    <tr>\n",
       "      <th>2975</th>\n",
       "      <td>3.0</td>\n",
       "      <td>92.0</td>\n",
       "      <td>118032.0</td>\n",
       "      <td>Automatic</td>\n",
       "      <td>7.0</td>\n",
       "      <td>Compact</td>\n",
       "      <td>Audi A3</td>\n",
       "      <td>Benzine</td>\n",
       "      <td>front</td>\n",
       "      <td>1300.0</td>\n",
       "      <td>Metallic</td>\n",
       "      <td>Cloth</td>\n",
       "      <td>5.0</td>\n",
       "      <td>22320.0</td>\n",
       "    </tr>\n",
       "    <tr>\n",
       "      <th>2978</th>\n",
       "      <td>3.0</td>\n",
       "      <td>92.0</td>\n",
       "      <td>121510.0</td>\n",
       "      <td>Automatic</td>\n",
       "      <td>7.0</td>\n",
       "      <td>Compact</td>\n",
       "      <td>Audi A3</td>\n",
       "      <td>Benzine</td>\n",
       "      <td>front</td>\n",
       "      <td>1300.0</td>\n",
       "      <td>Metallic</td>\n",
       "      <td>Cloth</td>\n",
       "      <td>5.0</td>\n",
       "      <td>22320.0</td>\n",
       "    </tr>\n",
       "  </tbody>\n",
       "</table>\n",
       "</div>"
      ],
      "text/plain": [
       "      age  hp_kW        km Gearing_Type  Gears body_type make_model     Fuel  \\\n",
       "2673  3.0   92.0   56993.0    Automatic    7.0   Compact    Audi A3  Benzine   \n",
       "2688  3.0   82.0   39660.0    Automatic    7.0   Compact    Audi A3  Benzine   \n",
       "2704  3.0  110.0   31900.0    Automatic    7.0   Compact    Audi A3  Benzine   \n",
       "2766  3.0  112.0   75201.0    Automatic    7.0   Compact    Audi A3  Benzine   \n",
       "2827  2.0   85.0   36700.0    Automatic    7.0   Compact    Audi A3  Benzine   \n",
       "2836  3.0   92.0  124136.0    Automatic    7.0   Compact    Audi A3  Benzine   \n",
       "2885  3.0   81.0  123748.0    Automatic    7.0   Compact    Audi A3  Benzine   \n",
       "2974  3.0   92.0  113490.0    Automatic    7.0   Compact    Audi A3  Benzine   \n",
       "2975  3.0   92.0  118032.0    Automatic    7.0   Compact    Audi A3  Benzine   \n",
       "2978  3.0   92.0  121510.0    Automatic    7.0   Compact    Audi A3  Benzine   \n",
       "\n",
       "     Drive_chain  Weight_kg Paint_Type    Upholstery_type  cons_comb    price  \n",
       "2673       front     1205.0   Metallic  Part/Full Leather        5.1  29472.0  \n",
       "2688       front     1280.0   Metallic  Part/Full Leather        4.1  29592.0  \n",
       "2704       front     1195.0   Metallic              Cloth        4.7  28784.0  \n",
       "2766       front     1280.0   Metallic              Cloth        4.1  28630.4  \n",
       "2827       front     1225.0   Metallic              Cloth        4.5  27184.0  \n",
       "2836       front     1300.0   Metallic              Cloth        4.9  27040.0  \n",
       "2885       front     1255.0   Metallic              Cloth        4.1  26240.0  \n",
       "2974       front     1300.0   Metallic              Cloth        5.0  22320.0  \n",
       "2975       front     1300.0   Metallic              Cloth        5.0  22320.0  \n",
       "2978       front     1300.0   Metallic              Cloth        5.0  22320.0  "
      ]
     },
     "execution_count": 88,
     "metadata": {},
     "output_type": "execute_result"
    }
   ],
   "source": [
    "audi_a3_benz = df[(df[\"make_model\"]=='Audi A3') & (df[\"Fuel\"]=='Benzine') & (df[\"body_type\"]=='Compact')]\n",
    "audi_a3_benz.head(10)"
   ]
  },
  {
   "cell_type": "code",
   "execution_count": 89,
   "metadata": {
    "colab": {
     "base_uri": "https://localhost:8080/"
    },
    "executionInfo": {
     "elapsed": 339,
     "status": "ok",
     "timestamp": 1663064188454,
     "user": {
      "displayName": "Richard Thames",
      "userId": "00258987493291873022"
     },
     "user_tz": -180
    },
    "id": "9PZdj2rxTboQ",
    "outputId": "cde0b7f3-d8a6-4524-f8ac-46b56496b767"
   },
   "outputs": [
    {
     "data": {
      "text/plain": [
       "(71, 14)"
      ]
     },
     "execution_count": 89,
     "metadata": {},
     "output_type": "execute_result"
    }
   ],
   "source": [
    "audi_a3_benz.shape"
   ]
  },
  {
   "cell_type": "code",
   "execution_count": 90,
   "metadata": {
    "colab": {
     "base_uri": "https://localhost:8080/"
    },
    "executionInfo": {
     "elapsed": 511,
     "status": "ok",
     "timestamp": 1663064191379,
     "user": {
      "displayName": "Richard Thames",
      "userId": "00258987493291873022"
     },
     "user_tz": -180
    },
    "id": "LTGTKvHaTboR",
    "outputId": "04a5bad4-2b98-4dce-f816-a1299f2557fa"
   },
   "outputs": [
    {
     "data": {
      "text/plain": [
       "4.926760563380283"
      ]
     },
     "execution_count": 90,
     "metadata": {},
     "output_type": "execute_result"
    }
   ],
   "source": [
    "audi_a3_benz.cons_comb.mean()"
   ]
  },
  {
   "cell_type": "markdown",
   "metadata": {
    "id": "Oyvl2R9hTboR"
   },
   "source": [
    "H0: mu = 5\n",
    "\n",
    "H1: mu < 5"
   ]
  },
  {
   "cell_type": "code",
   "execution_count": 91,
   "metadata": {
    "executionInfo": {
     "elapsed": 337,
     "status": "ok",
     "timestamp": 1663065687787,
     "user": {
      "displayName": "Richard Thames",
      "userId": "00258987493291873022"
     },
     "user_tz": -180
    },
    "id": "wvUaLwhvTboS"
   },
   "outputs": [
    {
     "data": {
      "text/plain": [
       "Ttest_1sampResult(statistic=-1.2063420638839055, pvalue=0.11587348238805692)"
      ]
     },
     "execution_count": 91,
     "metadata": {},
     "output_type": "execute_result"
    }
   ],
   "source": [
    "oneSamp = stats.ttest_1samp(audi_a3_benz.cons_comb, popmean=5, alternative=\"less\")\n",
    "oneSamp "
   ]
  },
  {
   "cell_type": "code",
   "execution_count": 92,
   "metadata": {
    "colab": {
     "base_uri": "https://localhost:8080/"
    },
    "executionInfo": {
     "elapsed": 328,
     "status": "ok",
     "timestamp": 1663064235857,
     "user": {
      "displayName": "Richard Thames",
      "userId": "00258987493291873022"
     },
     "user_tz": -180
    },
    "id": "z1w9Y5QZTboS",
    "outputId": "26461175-6074-4166-d923-befe2c87c357"
   },
   "outputs": [
    {
     "name": "stdout",
     "output_type": "stream",
     "text": [
      "At 0.05 level of significance, we fail to reject the null hypothesis. We don't have strong evidence to reject the null hypothesis. We can not say fuel consumption is significantly less than 5\n"
     ]
    }
   ],
   "source": [
    "alpha = 0.05\n",
    "\n",
    "if oneSamp.pvalue < alpha:\n",
    "    print('At {} level of significance, we can reject the null hypothesis in favor of alternative hypothesis.'.format(alpha))\n",
    "else:\n",
    "    print(\"At {} level of significance, we fail to reject the null hypothesis. We don't have strong evidence to reject the null hypothesis. We can not say fuel consumption is significantly less than 5\".format(alpha))"
   ]
  },
  {
   "cell_type": "markdown",
   "metadata": {
    "id": "M1votNoZTboT"
   },
   "source": [
    "## 2. Independent Sample T Test"
   ]
  },
  {
   "cell_type": "markdown",
   "metadata": {
    "id": "rc3AvCqmTboT"
   },
   "source": [
    "### Determine if there is any difference in mean fuel consumption between Automatic and Manual gearing types for Diesel-Compact-A3. "
   ]
  },
  {
   "cell_type": "markdown",
   "metadata": {
    "id": "FbVOFPrITboT"
   },
   "source": [
    "H0: mu1 = mu2\n",
    "\n",
    "H1: mu1 != mu2"
   ]
  },
  {
   "cell_type": "code",
   "execution_count": 93,
   "metadata": {
    "colab": {
     "base_uri": "https://localhost:8080/",
     "height": 270
    },
    "executionInfo": {
     "elapsed": 528,
     "status": "ok",
     "timestamp": 1663064513551,
     "user": {
      "displayName": "Richard Thames",
      "userId": "00258987493291873022"
     },
     "user_tz": -180
    },
    "id": "SbwBOZGlTboT",
    "outputId": "6758ada4-b431-4378-c6eb-aee24a71e998"
   },
   "outputs": [
    {
     "data": {
      "text/html": [
       "<div>\n",
       "<style scoped>\n",
       "    .dataframe tbody tr th:only-of-type {\n",
       "        vertical-align: middle;\n",
       "    }\n",
       "\n",
       "    .dataframe tbody tr th {\n",
       "        vertical-align: top;\n",
       "    }\n",
       "\n",
       "    .dataframe thead th {\n",
       "        text-align: right;\n",
       "    }\n",
       "</style>\n",
       "<table border=\"1\" class=\"dataframe\">\n",
       "  <thead>\n",
       "    <tr style=\"text-align: right;\">\n",
       "      <th></th>\n",
       "      <th>age</th>\n",
       "      <th>hp_kW</th>\n",
       "      <th>km</th>\n",
       "      <th>Gearing_Type</th>\n",
       "      <th>Gears</th>\n",
       "      <th>body_type</th>\n",
       "      <th>make_model</th>\n",
       "      <th>Fuel</th>\n",
       "      <th>Drive_chain</th>\n",
       "      <th>Weight_kg</th>\n",
       "      <th>Paint_Type</th>\n",
       "      <th>Upholstery_type</th>\n",
       "      <th>cons_comb</th>\n",
       "      <th>price</th>\n",
       "    </tr>\n",
       "  </thead>\n",
       "  <tbody>\n",
       "    <tr>\n",
       "      <th>2620</th>\n",
       "      <td>3.0</td>\n",
       "      <td>81.0</td>\n",
       "      <td>35000.0</td>\n",
       "      <td>Automatic</td>\n",
       "      <td>7.0</td>\n",
       "      <td>Compact</td>\n",
       "      <td>Audi A3</td>\n",
       "      <td>Diesel</td>\n",
       "      <td>front</td>\n",
       "      <td>1355.0</td>\n",
       "      <td>Metallic</td>\n",
       "      <td>Part/Full Leather</td>\n",
       "      <td>3.0</td>\n",
       "      <td>27040.0</td>\n",
       "    </tr>\n",
       "    <tr>\n",
       "      <th>2654</th>\n",
       "      <td>2.0</td>\n",
       "      <td>81.0</td>\n",
       "      <td>30529.0</td>\n",
       "      <td>Automatic</td>\n",
       "      <td>7.0</td>\n",
       "      <td>Compact</td>\n",
       "      <td>Audi A3</td>\n",
       "      <td>Diesel</td>\n",
       "      <td>front</td>\n",
       "      <td>1285.0</td>\n",
       "      <td>Metallic</td>\n",
       "      <td>Part/Full Leather</td>\n",
       "      <td>3.8</td>\n",
       "      <td>28800.0</td>\n",
       "    </tr>\n",
       "    <tr>\n",
       "      <th>2667</th>\n",
       "      <td>3.0</td>\n",
       "      <td>81.0</td>\n",
       "      <td>40000.0</td>\n",
       "      <td>Automatic</td>\n",
       "      <td>7.0</td>\n",
       "      <td>Compact</td>\n",
       "      <td>Audi A3</td>\n",
       "      <td>Diesel</td>\n",
       "      <td>front</td>\n",
       "      <td>1330.0</td>\n",
       "      <td>Uni/basic</td>\n",
       "      <td>Cloth</td>\n",
       "      <td>3.8</td>\n",
       "      <td>29600.0</td>\n",
       "    </tr>\n",
       "    <tr>\n",
       "      <th>2669</th>\n",
       "      <td>3.0</td>\n",
       "      <td>81.0</td>\n",
       "      <td>66045.0</td>\n",
       "      <td>Automatic</td>\n",
       "      <td>7.0</td>\n",
       "      <td>Compact</td>\n",
       "      <td>Audi A3</td>\n",
       "      <td>Diesel</td>\n",
       "      <td>front</td>\n",
       "      <td>1255.0</td>\n",
       "      <td>Metallic</td>\n",
       "      <td>Cloth</td>\n",
       "      <td>4.0</td>\n",
       "      <td>29520.0</td>\n",
       "    </tr>\n",
       "    <tr>\n",
       "      <th>2671</th>\n",
       "      <td>3.0</td>\n",
       "      <td>82.0</td>\n",
       "      <td>122381.0</td>\n",
       "      <td>Automatic</td>\n",
       "      <td>7.0</td>\n",
       "      <td>Compact</td>\n",
       "      <td>Audi A3</td>\n",
       "      <td>Diesel</td>\n",
       "      <td>front</td>\n",
       "      <td>1260.0</td>\n",
       "      <td>Metallic</td>\n",
       "      <td>Cloth</td>\n",
       "      <td>3.8</td>\n",
       "      <td>29520.0</td>\n",
       "    </tr>\n",
       "  </tbody>\n",
       "</table>\n",
       "</div>"
      ],
      "text/plain": [
       "      age  hp_kW        km Gearing_Type  Gears body_type make_model    Fuel  \\\n",
       "2620  3.0   81.0   35000.0    Automatic    7.0   Compact    Audi A3  Diesel   \n",
       "2654  2.0   81.0   30529.0    Automatic    7.0   Compact    Audi A3  Diesel   \n",
       "2667  3.0   81.0   40000.0    Automatic    7.0   Compact    Audi A3  Diesel   \n",
       "2669  3.0   81.0   66045.0    Automatic    7.0   Compact    Audi A3  Diesel   \n",
       "2671  3.0   82.0  122381.0    Automatic    7.0   Compact    Audi A3  Diesel   \n",
       "\n",
       "     Drive_chain  Weight_kg Paint_Type    Upholstery_type  cons_comb    price  \n",
       "2620       front     1355.0   Metallic  Part/Full Leather        3.0  27040.0  \n",
       "2654       front     1285.0   Metallic  Part/Full Leather        3.8  28800.0  \n",
       "2667       front     1330.0  Uni/basic              Cloth        3.8  29600.0  \n",
       "2669       front     1255.0   Metallic              Cloth        4.0  29520.0  \n",
       "2671       front     1260.0   Metallic              Cloth        3.8  29520.0  "
      ]
     },
     "execution_count": 93,
     "metadata": {},
     "output_type": "execute_result"
    }
   ],
   "source": [
    "audi_a3_diesel=df[(df[\"make_model\"]=='Audi A3') & (df[\"Fuel\"]=='Diesel') & (df[\"body_type\"]=='Compact')]\n",
    "audi_a3_diesel.head()"
   ]
  },
  {
   "cell_type": "code",
   "execution_count": 94,
   "metadata": {
    "colab": {
     "base_uri": "https://localhost:8080/"
    },
    "executionInfo": {
     "elapsed": 398,
     "status": "ok",
     "timestamp": 1663064522336,
     "user": {
      "displayName": "Richard Thames",
      "userId": "00258987493291873022"
     },
     "user_tz": -180
    },
    "id": "0dtVRWG_TboU",
    "outputId": "8db413fd-4b23-4f90-e6a8-491d4a76e2bd"
   },
   "outputs": [
    {
     "data": {
      "text/plain": [
       "Automatic    60\n",
       "Manual       50\n",
       "Name: Gearing_Type, dtype: int64"
      ]
     },
     "execution_count": 94,
     "metadata": {},
     "output_type": "execute_result"
    }
   ],
   "source": [
    "audi_a3_diesel.Gearing_Type.value_counts()"
   ]
  },
  {
   "cell_type": "code",
   "execution_count": 95,
   "metadata": {
    "id": "3IqKRZPsTboU"
   },
   "outputs": [],
   "source": [
    "manual_cars = audi_a3_diesel[audi_a3_diesel[\"Gearing_Type\"]==\"Manual\"]\n",
    "automatic_cars = audi_a3_diesel[audi_a3_diesel[\"Gearing_Type\"]==\"Automatic\"]"
   ]
  },
  {
   "cell_type": "code",
   "execution_count": 96,
   "metadata": {
    "colab": {
     "base_uri": "https://localhost:8080/"
    },
    "executionInfo": {
     "elapsed": 516,
     "status": "ok",
     "timestamp": 1663064540666,
     "user": {
      "displayName": "Richard Thames",
      "userId": "00258987493291873022"
     },
     "user_tz": -180
    },
    "id": "OUrYhlUbTboU",
    "outputId": "def846a5-fc32-4275-ae50-383c02f1c4c5"
   },
   "outputs": [
    {
     "data": {
      "text/plain": [
       "3.92"
      ]
     },
     "execution_count": 96,
     "metadata": {},
     "output_type": "execute_result"
    }
   ],
   "source": [
    "manual_cars.cons_comb.mean()"
   ]
  },
  {
   "cell_type": "code",
   "execution_count": 97,
   "metadata": {
    "colab": {
     "base_uri": "https://localhost:8080/"
    },
    "executionInfo": {
     "elapsed": 3,
     "status": "ok",
     "timestamp": 1663064542714,
     "user": {
      "displayName": "Richard Thames",
      "userId": "00258987493291873022"
     },
     "user_tz": -180
    },
    "id": "1wskMXqaTboU",
    "outputId": "aeca636a-f4ff-49b4-e8f2-a1fd26e54ee5"
   },
   "outputs": [
    {
     "data": {
      "text/plain": [
       "3.8866666666666663"
      ]
     },
     "execution_count": 97,
     "metadata": {},
     "output_type": "execute_result"
    }
   ],
   "source": [
    "automatic_cars.cons_comb.mean()"
   ]
  },
  {
   "cell_type": "code",
   "execution_count": 98,
   "metadata": {
    "colab": {
     "base_uri": "https://localhost:8080/"
    },
    "executionInfo": {
     "elapsed": 513,
     "status": "ok",
     "timestamp": 1663064553777,
     "user": {
      "displayName": "Richard Thames",
      "userId": "00258987493291873022"
     },
     "user_tz": -180
    },
    "id": "c9d_qKScTboU",
    "outputId": "f1f7069d-103f-4607-e387-51b5cf17b5ad"
   },
   "outputs": [
    {
     "data": {
      "text/plain": [
       "LeveneResult(statistic=0.4763372576826049, pvalue=0.4915665786254162)"
      ]
     },
     "execution_count": 98,
     "metadata": {},
     "output_type": "execute_result"
    }
   ],
   "source": [
    "#Perform Levene test for equal variances\n",
    "#H0: The population variances are equal\n",
    "#H1: There is a difference between the variances in the population\n",
    "#The small p-value suggests that the populations do not have equal variances.\n",
    "#The large p-value suggests that the populations have equal variances.\n",
    "leveneTest = stats.levene(manual_cars.cons_comb, automatic_cars.cons_comb)\n",
    "leveneTest"
   ]
  },
  {
   "cell_type": "code",
   "execution_count": 99,
   "metadata": {
    "executionInfo": {
     "elapsed": 5,
     "status": "ok",
     "timestamp": 1663065709880,
     "user": {
      "displayName": "Richard Thames",
      "userId": "00258987493291873022"
     },
     "user_tz": -180
    },
    "id": "lbSxD-9dTboV"
   },
   "outputs": [
    {
     "data": {
      "text/plain": [
       "Ttest_indResult(statistic=0.6020423811725586, pvalue=0.5484077757125068)"
      ]
     },
     "execution_count": 99,
     "metadata": {},
     "output_type": "execute_result"
    }
   ],
   "source": [
    "# Calculate test statistics using stats.ttest_ind()\n",
    "indTest = stats.ttest_ind(manual_cars.cons_comb,automatic_cars.cons_comb, equal_var=True)\n",
    "indTest"
   ]
  },
  {
   "cell_type": "code",
   "execution_count": 100,
   "metadata": {
    "colab": {
     "base_uri": "https://localhost:8080/"
    },
    "executionInfo": {
     "elapsed": 818,
     "status": "ok",
     "timestamp": 1663064614193,
     "user": {
      "displayName": "Richard Thames",
      "userId": "00258987493291873022"
     },
     "user_tz": -180
    },
    "id": "032ugVQBTboV",
    "outputId": "2772d355-4bbf-4179-a1cc-277e36c5b24f"
   },
   "outputs": [
    {
     "name": "stdout",
     "output_type": "stream",
     "text": [
      "At 0.05 level of significance, we fail to reject the null hypothesis. We don't have strong evidence to reject the null hypothesis. There is no significant difference between manual and automatic cars regarding fuel consumption.\n"
     ]
    }
   ],
   "source": [
    "if indTest.pvalue < alpha:\n",
    "    print('At {} level of significance, we can reject the null hypothesis in favor of alternative hypothesis. Avg fuel consumption for automatic and manual cars are not the same.'.format(alpha))\n",
    "else:\n",
    "    print(\"At {} level of significance, we fail to reject the null hypothesis. We don't have strong evidence to reject the null hypothesis. There is no significant difference between manual and automatic cars regarding fuel consumption.\".format(alpha))"
   ]
  },
  {
   "cell_type": "markdown",
   "metadata": {
    "id": "2yRFWg3ITboV"
   },
   "source": [
    "## 3. One Way ANOVA"
   ]
  },
  {
   "cell_type": "markdown",
   "metadata": {
    "id": "GEYm4Z1KYcc-"
   },
   "source": [
    "### Determine if there is any difference in price among sedan, st_wagon and compact diesel-automatic-clio cars. "
   ]
  },
  {
   "cell_type": "code",
   "execution_count": 101,
   "metadata": {
    "colab": {
     "base_uri": "https://localhost:8080/"
    },
    "executionInfo": {
     "elapsed": 320,
     "status": "ok",
     "timestamp": 1663064894572,
     "user": {
      "displayName": "Richard Thames",
      "userId": "00258987493291873022"
     },
     "user_tz": -180
    },
    "id": "rEPtOHQfTboV",
    "outputId": "edf8e36f-0ded-4cf2-a993-c9861bdeb55b"
   },
   "outputs": [
    {
     "data": {
      "text/plain": [
       "Sedans           96\n",
       "Station wagon    56\n",
       "Compact          20\n",
       "Name: body_type, dtype: int64"
      ]
     },
     "execution_count": 101,
     "metadata": {},
     "output_type": "execute_result"
    }
   ],
   "source": [
    "diesel_auto_clio = df[(df[\"make_model\"]=='Renault Clio') & (df[\"Gearing_Type\"]=='Automatic') & (df[\"Fuel\"]=='Diesel')]\n",
    "diesel_auto_clio.body_type.value_counts()"
   ]
  },
  {
   "cell_type": "code",
   "execution_count": 102,
   "metadata": {
    "id": "9ImJ1cULTboW"
   },
   "outputs": [],
   "source": [
    "sedan = diesel_auto_clio[diesel_auto_clio[\"body_type\"]==\"Sedans\"]\n",
    "st_wagon = diesel_auto_clio[diesel_auto_clio[\"body_type\"]==\"Station wagon\"]\n",
    "compact = diesel_auto_clio[diesel_auto_clio[\"body_type\"]==\"Compact\"]"
   ]
  },
  {
   "cell_type": "code",
   "execution_count": 103,
   "metadata": {
    "colab": {
     "base_uri": "https://localhost:8080/"
    },
    "executionInfo": {
     "elapsed": 333,
     "status": "ok",
     "timestamp": 1663065073191,
     "user": {
      "displayName": "Richard Thames",
      "userId": "00258987493291873022"
     },
     "user_tz": -180
    },
    "id": "72DaTluKTboW",
    "outputId": "c3099341-8a8f-4490-a04d-11800d384262"
   },
   "outputs": [
    {
     "data": {
      "text/plain": [
       "ShapiroResult(statistic=0.9690706133842468, pvalue=0.7351368069648743)"
      ]
     },
     "execution_count": 103,
     "metadata": {},
     "output_type": "execute_result"
    }
   ],
   "source": [
    "# shapiro for normality test\n",
    "# large p value suggests normal data distribution\n",
    "# small p value suggests not normal data distribution\n",
    "stats.shapiro(compact.price)"
   ]
  },
  {
   "cell_type": "code",
   "execution_count": 104,
   "metadata": {
    "colab": {
     "base_uri": "https://localhost:8080/",
     "height": 369
    },
    "executionInfo": {
     "elapsed": 943,
     "status": "ok",
     "timestamp": 1663065099074,
     "user": {
      "displayName": "Richard Thames",
      "userId": "00258987493291873022"
     },
     "user_tz": -180
    },
    "id": "Xq_eXS13TboW",
    "outputId": "c0836878-a6c5-4c5b-84ef-950d2a49814b"
   },
   "outputs": [
    {
     "data": {
      "image/png": "[encoded data removed]",
      "text/plain": [
       "<Figure size 350x350 with 1 Axes>"
      ]
     },
     "metadata": {},
     "output_type": "display_data"
    }
   ],
   "source": [
    "sns.displot(x=\"price\", kind=\"kde\", data=compact);"
   ]
  },
  {
   "cell_type": "markdown",
   "metadata": {
    "id": "J9ozsXudTboW"
   },
   "source": [
    "H0: mu1 = mu2 = mu3 = m4\n",
    "\n",
    "H1: At least one of the mus is different."
   ]
  },
  {
   "cell_type": "code",
   "execution_count": 105,
   "metadata": {
    "executionInfo": {
     "elapsed": 919,
     "status": "ok",
     "timestamp": 1663065724143,
     "user": {
      "displayName": "Richard Thames",
      "userId": "00258987493291873022"
     },
     "user_tz": -180
    },
    "id": "2MuALcQtTboW"
   },
   "outputs": [
    {
     "data": {
      "text/plain": [
       "F_onewayResult(statistic=5.181927261831546, pvalue=0.006543725850937714)"
      ]
     },
     "execution_count": 105,
     "metadata": {},
     "output_type": "execute_result"
    }
   ],
   "source": [
    "anova_test = stats.f_oneway(sedan.price, st_wagon.price, compact.price)\n",
    "anova_test"
   ]
  },
  {
   "cell_type": "code",
   "execution_count": 106,
   "metadata": {
    "id": "KWe0GFLoTboX",
    "outputId": "e444ed30-4407-41f6-ebee-7888a306b737"
   },
   "outputs": [
    {
     "name": "stdout",
     "output_type": "stream",
     "text": [
      "At 0.05 level of significance, we can reject the null hypothesis in favor of alternative hypothesis. \n"
     ]
    }
   ],
   "source": [
    "alpha = 0.05\n",
    "if anova_test.pvalue < alpha:\n",
    "    print('At {} level of significance, we can reject the null hypothesis in favor of alternative hypothesis. '.format(alpha))\n",
    "else:\n",
    "    print(\"At {} level of significance, we fail to reject the null hypothesis. We don't have strong evidence to reject the null hypothesis.\".format(alpha))"
   ]
  },
  {
   "cell_type": "code",
   "execution_count": 107,
   "metadata": {
    "id": "VZVhMsU8TboX"
   },
   "outputs": [],
   "source": [
    "# At least one of the means is signicantly different. To make multiple comparisons we need to implement posthoc test (tukeyhsd is one of the posthoc tests)"
   ]
  },
  {
   "cell_type": "code",
   "execution_count": 108,
   "metadata": {
    "id": "H2jXzMkhTboX"
   },
   "outputs": [],
   "source": [
    "#pip install statsmodels"
   ]
  },
  {
   "cell_type": "code",
   "execution_count": 109,
   "metadata": {
    "id": "UK7pTxYZTboX"
   },
   "outputs": [],
   "source": [
    "#pip show statsmodels"
   ]
  },
  {
   "cell_type": "code",
   "execution_count": 110,
   "metadata": {
    "id": "PUrNyjCSTboX"
   },
   "outputs": [],
   "source": [
    "import statsmodels.api as sm"
   ]
  },
  {
   "cell_type": "code",
   "execution_count": 111,
   "metadata": {
    "colab": {
     "base_uri": "https://localhost:8080/"
    },
    "executionInfo": {
     "elapsed": 420,
     "status": "ok",
     "timestamp": 1663065220001,
     "user": {
      "displayName": "Richard Thames",
      "userId": "00258987493291873022"
     },
     "user_tz": -180
    },
    "id": "WBN1B-8jTboZ",
    "outputId": "82267ee5-7a00-47e7-f282-61d11b7c7288"
   },
   "outputs": [
    {
     "name": "stdout",
     "output_type": "stream",
     "text": [
      "        Multiple Comparison of Means - Tukey HSD, FWER=0.05        \n",
      "===================================================================\n",
      " group1     group2     meandiff  p-adj    lower      upper   reject\n",
      "-------------------------------------------------------------------\n",
      "Compact        Sedans   -3559.21 0.0062 -6266.8192 -851.6008   True\n",
      "Compact Station wagon -3580.9886 0.0101  -6450.483 -711.4941   True\n",
      " Sedans Station wagon   -21.7786 0.9996 -1874.0293 1830.4721  False\n",
      "-------------------------------------------------------------------\n"
     ]
    }
   ],
   "source": [
    "print(sm.stats.multicomp.pairwise_tukeyhsd (diesel_auto_clio.price, diesel_auto_clio.body_type))"
   ]
  },
  {
   "cell_type": "code",
   "execution_count": 112,
   "metadata": {
    "id": "GBADnFEnTboZ"
   },
   "outputs": [],
   "source": [
    "# compare : compact&Sedan  : Significant difference appears. (p-adj is too small)\n",
    "# compare : compact&station wagon  : Significant difference appears. (p-adj is too small)\n",
    "# compare : sedan&station wagon  : No significant difference appears. (p-adj is too large)"
   ]
  },
  {
   "cell_type": "markdown",
   "metadata": {
    "id": "AY280dpWTboa"
   },
   "source": [
    "## 4. Chi Square Test"
   ]
  },
  {
   "cell_type": "markdown",
   "metadata": {
    "id": "c3owE7SuTboa"
   },
   "source": [
    "H0: There is no associatoion between two categorical variables (Gearing Type - Fuel categories)\n",
    "\n",
    "H1: There a is significant associatoion between two categorical variables"
   ]
  },
  {
   "cell_type": "code",
   "execution_count": 113,
   "metadata": {
    "id": "LYSuVA9rTboa"
   },
   "outputs": [],
   "source": [
    "df_fuel = df[(df[\"Fuel\"]==\"Benzine\") | (df[\"Fuel\"]==\"Diesel\") | (df[\"Fuel\"]==\"LPG/CNG\")]"
   ]
  },
  {
   "cell_type": "code",
   "execution_count": 114,
   "metadata": {
    "colab": {
     "base_uri": "https://localhost:8080/",
     "height": 175
    },
    "executionInfo": {
     "elapsed": 1135,
     "status": "ok",
     "timestamp": 1663065333970,
     "user": {
      "displayName": "Richard Thames",
      "userId": "00258987493291873022"
     },
     "user_tz": -180
    },
    "id": "leIDRtSlTbob",
    "outputId": "6b841e95-4140-49d8-adc4-df8c39b805dc"
   },
   "outputs": [
    {
     "data": {
      "text/html": [
       "<div>\n",
       "<style scoped>\n",
       "    .dataframe tbody tr th:only-of-type {\n",
       "        vertical-align: middle;\n",
       "    }\n",
       "\n",
       "    .dataframe tbody tr th {\n",
       "        vertical-align: top;\n",
       "    }\n",
       "\n",
       "    .dataframe thead th {\n",
       "        text-align: right;\n",
       "    }\n",
       "</style>\n",
       "<table border=\"1\" class=\"dataframe\">\n",
       "  <thead>\n",
       "    <tr style=\"text-align: right;\">\n",
       "      <th>Fuel</th>\n",
       "      <th>Benzine</th>\n",
       "      <th>Diesel</th>\n",
       "      <th>LPG/CNG</th>\n",
       "    </tr>\n",
       "    <tr>\n",
       "      <th>Gearing_Type</th>\n",
       "      <th></th>\n",
       "      <th></th>\n",
       "      <th></th>\n",
       "    </tr>\n",
       "  </thead>\n",
       "  <tbody>\n",
       "    <tr>\n",
       "      <th>Automatic</th>\n",
       "      <td>3933</td>\n",
       "      <td>3347</td>\n",
       "      <td>16</td>\n",
       "    </tr>\n",
       "    <tr>\n",
       "      <th>Manual</th>\n",
       "      <td>4457</td>\n",
       "      <td>3663</td>\n",
       "      <td>29</td>\n",
       "    </tr>\n",
       "    <tr>\n",
       "      <th>Semi-automatic</th>\n",
       "      <td>158</td>\n",
       "      <td>288</td>\n",
       "      <td>19</td>\n",
       "    </tr>\n",
       "  </tbody>\n",
       "</table>\n",
       "</div>"
      ],
      "text/plain": [
       "Fuel            Benzine  Diesel  LPG/CNG\n",
       "Gearing_Type                            \n",
       "Automatic          3933    3347       16\n",
       "Manual             4457    3663       29\n",
       "Semi-automatic      158     288       19"
      ]
     },
     "execution_count": 114,
     "metadata": {},
     "output_type": "execute_result"
    }
   ],
   "source": [
    "contigency_table= pd.crosstab(df_fuel['Gearing_Type'], df_fuel['Fuel'])\n",
    "contigency_table"
   ]
  },
  {
   "cell_type": "code",
   "execution_count": 117,
   "metadata": {
    "executionInfo": {
     "elapsed": 601,
     "status": "ok",
     "timestamp": 1663065735599,
     "user": {
      "displayName": "Richard Thames",
      "userId": "00258987493291873022"
     },
     "user_tz": -180
    },
    "id": "0ENYoLfXTbob"
   },
   "outputs": [],
   "source": [
    "stat, p, dof, expected = stats.chi2_contingency(contigency_table)"
   ]
  },
  {
   "cell_type": "code",
   "execution_count": 118,
   "metadata": {
    "colab": {
     "base_uri": "https://localhost:8080/"
    },
    "executionInfo": {
     "elapsed": 1229,
     "status": "ok",
     "timestamp": 1663065486843,
     "user": {
      "displayName": "Richard Thames",
      "userId": "00258987493291873022"
     },
     "user_tz": -180
    },
    "id": "uovMkg5dTbob",
    "outputId": "bd9c5d23-71f3-4572-bf64-4abff0d27648"
   },
   "outputs": [
    {
     "name": "stdout",
     "output_type": "stream",
     "text": [
      "stat=226.255, p=0.000\n",
      "Reject Ho. There a is significant associatoion between two categorical variables. Gearing type and feul categories dependent.\n"
     ]
    }
   ],
   "source": [
    "print('stat=%.3f, p=%.3f' % (stat, p))\n",
    "if p > 0.05:\n",
    "\tprint('Probably gearing type and feul categories are independent')\n",
    "else:\n",
    "\tprint('Reject Ho. There a is significant associatoion between two categorical variables. Gearing type and feul categories dependent.')"
   ]
  }
 ],
 "metadata": {
  "colab": {
   "collapsed_sections": [],
   "provenance": []
  },
  "kernelspec": {
   "display_name": "Python 3 (ipykernel)",
   "language": "python",
   "name": "python3"
  },
  "language_info": {
   "codemirror_mode": {
    "name": "ipython",
    "version": 3
   },
   "file_extension": ".py",
   "mimetype": "text/x-python",
   "name": "python",
   "nbconvert_exporter": "python",
   "pygments_lexer": "ipython3",
   "version": "3.10.6"
  },
  "vscode": {
   "interpreter": {
    "hash": "f6246b25e200e4c5124e3e61789ac81350562f0761bbcf92ad9e48654207659c"
   }
  }
 },
 "nbformat": 4,
 "nbformat_minor": 1
}
